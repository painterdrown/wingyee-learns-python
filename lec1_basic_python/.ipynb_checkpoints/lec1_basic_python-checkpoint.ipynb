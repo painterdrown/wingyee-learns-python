{
 "cells": [
  {
   "cell_type": "markdown",
   "metadata": {},
   "source": [
    "## 1. Input ➡️ Process ➡️ Output\n",
    "\n",
    "几乎所有程序的运行，都可以分解成 input, process, output 三个过程。\n",
    "\n",
    "| Program | Input | Process | Output |\n",
    "| :------ | :---- | :------ | :----- |\n",
    "| 排序程序 | 从键盘获取用户输入的 N 个整数 | 将 N 个获取到的整数进行排序 | 将排序后到结果展现给用户 |\n",
    "| 词频分析程序 | 从 excel 文件获取 N 个单词 | 将 N 个单词进行统计、分析 | 将分析结果展现给用户 |\n",
    "| QQ 飞车 | 从屏幕获取用户当前到触摸操作 | 根据获取到到操作，计算车的方向、状态的改变 | 将其改变效果通过动画展现出来 |\n",
    "\n",
    "> 使用 Python 从 excel, csv 等表格文件中获取 input 是非常方便滴。"
   ]
  },
  {
   "cell_type": "code",
   "execution_count": 2,
   "metadata": {},
   "outputs": [
    {
     "name": "stdout",
     "output_type": "stream",
     "text": [
      "How old are you? 18\n",
      "You are 18 years old!\n"
     ]
    }
   ],
   "source": [
    "# input_from_keyboard.py\n",
    "# 从键盘获取 input\n",
    "\n",
    "age = input('How old are you? ')\n",
    "print('You are ' + age + ' years old!')"
   ]
  },
  {
   "cell_type": "code",
   "execution_count": 4,
   "metadata": {},
   "outputs": [
    {
     "name": "stdout",
     "output_type": "stream",
     "text": [
      "name age\n",
      "painterdrown 21.0\n",
      "wingyeelam 21.0\n"
     ]
    }
   ],
   "source": [
    "# input_from_excel.py\n",
    "# 从 excel 文件获取 input\n",
    "# 首先在命令行输入 pip3 install xlrd 来安装 xlrd 库\n",
    "\n",
    "import xlrd\n",
    "\n",
    "data = xlrd.open_workbook('data/people.xlsx')\n",
    "table = data.sheets()[0]\n",
    "print(table.cell(0, 0).value, table.cell(0, 1).value)\n",
    "print(table.cell(1, 0).value, table.cell(1, 1).value)\n",
    "print(table.cell(2, 0).value, table.cell(2, 1).value)"
   ]
  },
  {
   "cell_type": "markdown",
   "metadata": {},
   "source": [
    "## 2. Functions（函数）\n",
    "\n",
    "在 Python 或者是其他到编程语言里面，这都是及其重要的一个概念。类似于数学中的函数 f(x)，在 Python 里面，函数可以理解为“实现某一个功能的一段代码”，函数概念的引入，有利于代码的模块化。"
   ]
  },
  {
   "cell_type": "code",
   "execution_count": 5,
   "metadata": {},
   "outputs": [
    {
     "name": "stdout",
     "output_type": "stream",
     "text": [
      "input a: 1\n",
      "input b: 2\n",
      "a + b = 3\n"
     ]
    }
   ],
   "source": [
    "# add.py\n",
    "# 输入两个整数，直接相加\n",
    "\n",
    "a = input('input a: ')\n",
    "b = input('input b: ')\n",
    "c = int(a) + int(b)\n",
    "print('a + b = ' + str(c))"
   ]
  },
  {
   "cell_type": "code",
   "execution_count": 6,
   "metadata": {},
   "outputs": [
    {
     "name": "stdout",
     "output_type": "stream",
     "text": [
      "input a: 1\n",
      "input b: 2\n",
      "a + b = 3\n"
     ]
    }
   ],
   "source": [
    "# add_function.py\n",
    "# 输入两个整数，使用函数相加\n",
    "\n",
    "def add(a, b):\n",
    "  c = a + b\n",
    "  return c\n",
    "\n",
    "a = input('input a: ')\n",
    "b = input('input b: ')\n",
    "c = add(int(a), int(b))\n",
    "print('a + b = ' + str(c))"
   ]
  },
  {
   "cell_type": "markdown",
   "metadata": {},
   "source": [
    "## 3. Variables（变量）\n",
    "\n",
    "### 3.1 全局变量\n",
    "\n",
    "全局变量是在整个 py 文件中声明，全局（整个文件）范围内都可以访问。\n",
    "\n",
    "### 3.2 局部变量\n",
    "\n",
    "局部变量是在某个函数中声明的，只能在该函数中访问它。如果试图在函数之外的其他地方访问，就是 BUG。"
   ]
  },
  {
   "cell_type": "code",
   "execution_count": 7,
   "metadata": {},
   "outputs": [
    {
     "name": "stdout",
     "output_type": "stream",
     "text": [
      "Wingyee Lam\n"
     ]
    }
   ],
   "source": [
    "# global.py\n",
    "# 全局变量\n",
    "\n",
    "name = 'Wingyee Lam'\n",
    "print(name)"
   ]
  },
  {
   "cell_type": "code",
   "execution_count": 15,
   "metadata": {},
   "outputs": [
    {
     "name": "stdout",
     "output_type": "stream",
     "text": [
      "Wingyee Lam\n"
     ]
    }
   ],
   "source": [
    "# global_in_function.py\n",
    "# 在函数里面访问全局变量\n",
    "\n",
    "name = 'Wingyee Lam'\n",
    "def sayTheName():\n",
    "  print(name)\n",
    "\n",
    "sayTheName()"
   ]
  },
  {
   "cell_type": "code",
   "execution_count": 9,
   "metadata": {},
   "outputs": [
    {
     "name": "stdout",
     "output_type": "stream",
     "text": [
      "Wingyee Lam\n"
     ]
    }
   ],
   "source": [
    "# local.py\n",
    "# 局部变量\n",
    "\n",
    "def sayTheName():\n",
    "  name = 'Wingyee Lam'\n",
    "  print(name)\n",
    "    \n",
    "sayTheName()"
   ]
  },
  {
   "cell_type": "code",
   "execution_count": 16,
   "metadata": {},
   "outputs": [
    {
     "name": "stdout",
     "output_type": "stream",
     "text": [
      "Wingyee Lam\n"
     ]
    }
   ],
   "source": [
    "# local_out_of_function.py\n",
    "# 在函数外面访问局部变量（BUG）\n",
    "# 本来有 BUG 的，但是在某些解释器（如 IPython）里面却可以运行，但是不代表没错！\n",
    "# 使用命令行运行该文件会报错，在 Jupyter Notebook 里面不会\n",
    "\n",
    "def localName():\n",
    "  name = 'Wingyee Lam'\n",
    "    \n",
    "print(name)"
   ]
  },
  {
   "cell_type": "markdown",
   "metadata": {},
   "source": [
    "## 4. Names\n",
    "\n",
    "在 Python 代码里面，变量和函数都需要有一个名字。不指明名字的话，Python 不知道你要对哪个变量进行操作。\n",
    "\n",
    "### 4.1 命名规则\n",
    "\n",
    "+ 只能包含字母、数字、下划线\n",
    "+ 可以以字母和下划线开头\n",
    "+ 不能以数字开头\n",
    "\n",
    "### 4.2 命名规范\n",
    "\n",
    "+ 下划线。`first_name`\n",
    "+ 驼峰。`firstName`\n",
    "\n",
    "> 我的建议：变量命名使用下划线，函数命名使用驼峰。\n",
    "\n",
    "> 记住，在取名字的时候，不要太简约，尽量要通过名字体现其意义。杜绝 `a`, `a1`, `a2`, `aa`, `aaa` 这类无脑的名字。"
   ]
  },
  {
   "cell_type": "markdown",
   "metadata": {},
   "source": [
    "## 5. 控制结构\n",
    "\n",
    "Python 以及其他的编程语言中，这也是一个很重要的概念，关系到你如何控制代码按照你想要到顺序运行。\n",
    "\n",
    "### 5.1 顺序结构\n",
    "\n",
    "说白了就是代码从上往下，一行一行地执行。\n",
    "\n",
    "### 5.2 条件结构\n",
    "\n",
    "通过判断来选择执行不同的代码段。\n",
    "\n",
    "+ if 结构\n",
    "+ if - else 结构\n",
    "+ if - else if - else 机构\n",
    "\n",
    "### 5.3 循环结构\n",
    "\n",
    "重复地执行相同的代码段。\n",
    "\n",
    "+ for 结构\n",
    "+ while 结构"
   ]
  },
  {
   "cell_type": "code",
   "execution_count": 17,
   "metadata": {},
   "outputs": [
    {
     "name": "stdout",
     "output_type": "stream",
     "text": [
      "1 > 0\n"
     ]
    }
   ],
   "source": [
    "# if.py\n",
    "# if 结构\n",
    "\n",
    "if (1 > 0):\n",
    "  print('1 > 0')\n",
    "\n",
    "if (-1 > 0):\n",
    "  print('-1 > 0')"
   ]
  },
  {
   "cell_type": "code",
   "execution_count": 18,
   "metadata": {},
   "outputs": [
    {
     "name": "stdout",
     "output_type": "stream",
     "text": [
      "1 > 0\n"
     ]
    }
   ],
   "source": [
    "# if_else.py\n",
    "# if - else 结构\n",
    "\n",
    "if (1 > 0):\n",
    "  print('1 > 0')\n",
    "else:\n",
    "  print('1 <= 0')"
   ]
  },
  {
   "cell_type": "code",
   "execution_count": 19,
   "metadata": {},
   "outputs": [
    {
     "name": "stdout",
     "output_type": "stream",
     "text": [
      "a > 0\n"
     ]
    }
   ],
   "source": [
    "# if_elif_else.py\n",
    "# if - else if - else 结构\n",
    "\n",
    "a = 1\n",
    "if (a > 1):\n",
    "  print('a > 1')\n",
    "elif (a > 0):\n",
    "  print('a > 0')\n",
    "else:\n",
    "  print('a <= 0')"
   ]
  },
  {
   "cell_type": "code",
   "execution_count": 20,
   "metadata": {},
   "outputs": [
    {
     "name": "stdout",
     "output_type": "stream",
     "text": [
      "当前字母: W\n",
      "当前字母: i\n",
      "当前字母: n\n",
      "当前字母: g\n",
      "当前字母: y\n",
      "当前字母: e\n",
      "当前字母: e\n",
      "当前字母:  \n",
      "当前字母: L\n",
      "当前字母: a\n",
      "当前字母: m\n",
      "======================\n",
      "当前水果: banana\n",
      "当前水果: apple\n",
      "当前水果: mango\n",
      "======================\n",
      "当前数字: 0\n",
      "当前数字: 1\n",
      "当前数字: 2\n",
      "当前数字: 3\n",
      "当前数字: 4\n",
      "当前数字: 5\n",
      "当前数字: 6\n",
      "当前数字: 7\n",
      "当前数字: 8\n",
      "当前数字: 9\n",
      "======================\n",
      "当前数字: 1\n",
      "当前数字: 2\n",
      "当前数字: 3\n",
      "当前数字: 4\n",
      "当前数字: 5\n",
      "当前数字: 6\n",
      "当前数字: 7\n",
      "当前数字: 8\n",
      "当前数字: 9\n"
     ]
    }
   ],
   "source": [
    "# for.py\n",
    "# for 结构\n",
    "\n",
    "for letter in 'Wingyee Lam':\n",
    "  print('current letter:', letter)\n",
    "\n",
    "print('======================')\n",
    "\n",
    "fruits = ['banana', 'apple',  'mango']\n",
    "for fruit in fruits:\n",
    "  print('current fruit:', fruit)\n",
    "\n",
    "print('======================')\n",
    "\n",
    "for number in range(10):\n",
    "  print('current number:', number)\n",
    "\n",
    "print('======================')\n",
    "\n",
    "for number in range(1, 10):\n",
    "  print('current number:', number)"
   ]
  },
  {
   "cell_type": "code",
   "execution_count": null,
   "metadata": {},
   "outputs": [],
   "source": [
    "# while.py\n",
    "# while 结构\n",
    "\n",
    "a = 0\n",
    "while (a < 10):\n",
    "  print('current a:', a)\n",
    "  a = a + 1"
   ]
  },
  {
   "cell_type": "markdown",
   "metadata": {},
   "source": [
    "## 6. 数据类型\n",
    "\n",
    "### 6.1 基本数据类型\n",
    "\n",
    "> http://www.runoob.com/python3/python3-data-type.html\n",
    "\n",
    "Python3 中有六个标准的数据类型：\n",
    "\n",
    "+ Number（数字）\n",
    "+ String（字符串\n",
    "+ List（列表）\n",
    "+ Tuple（元组）\n",
    "+ Sets（集合）\n",
    "+ Dictionary（字典）\n",
    "\n",
    "### 6.2 数据类型转换\n",
    "\n",
    "> 要把什么类型转成什么类型，直接百度吧！"
   ]
  }
 ],
 "metadata": {
  "kernelspec": {
   "display_name": "Python 3",
   "language": "python",
   "name": "python3"
  },
  "language_info": {
   "codemirror_mode": {
    "name": "ipython",
    "version": 3
   },
   "file_extension": ".py",
   "mimetype": "text/x-python",
   "name": "python",
   "nbconvert_exporter": "python",
   "pygments_lexer": "ipython3",
   "version": "3.6.5"
  }
 },
 "nbformat": 4,
 "nbformat_minor": 2
}
