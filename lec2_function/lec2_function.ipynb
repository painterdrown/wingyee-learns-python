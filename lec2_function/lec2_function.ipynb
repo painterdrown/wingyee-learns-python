{
 "cells": [
  {
   "cell_type": "markdown",
   "metadata": {},
   "source": [
    "## 1. 定义\n",
    "\n",
    "+ 函数以 `def` 开头，后接函数名和圆括号 ()。\n",
    "+ 圆括号之间可以用于定义参数。\n",
    "+ 函数内容以冒号起始，函数体需要缩进。\n",
    "+ `return xx` 使得函数返回一个值（不是必要的）。没有 `return` 的函数相当于返回 `None`。"
   ]
  },
  {
   "cell_type": "markdown",
   "metadata": {},
   "source": [
    "## 2. 参数\n",
    "\n",
    "### 2.1 值传递 vs 引用传递\n",
    "\n",
    "在 Python 中，string, tuple, 和 number 是不可更改的对象，因此在传递这三种类型的数据时，是通过**值传递**。看下面的例子："
   ]
  },
  {
   "cell_type": "code",
   "execution_count": 1,
   "metadata": {},
   "outputs": [
    {
     "name": "stdout",
     "output_type": "stream",
     "text": [
      "2\n"
     ]
    }
   ],
   "source": [
    "# pass_by_value.py\n",
    "# 值传递\n",
    "\n",
    "def changeInt(a):\n",
    "    a = 10\n",
    "\n",
    "b = 2\n",
    "changeInt(b)\n",
    "print(b)"
   ]
  },
  {
   "cell_type": "markdown",
   "metadata": {},
   "source": [
    "changeInt(b) 的时候，刚传进去的 b 是一个 number 类型，但是拿到函数 changeInt 手里的，只是 b 的一个 copy，而不是 b 本身。所以，changeInt 的修改不会影响原来的值。\n",
    "\n",
    "**引用传递**则是将原来变量的引用传递给函数，函数里面访问该引用其实等价于访问原来的变量，所以在函数里面修改会影响原来的变量。"
   ]
  },
  {
   "cell_type": "code",
   "execution_count": 2,
   "metadata": {},
   "outputs": [
    {
     "name": "stdout",
     "output_type": "stream",
     "text": [
      "[10, 20, 30, '多余的东西']\n"
     ]
    }
   ],
   "source": [
    "# pass_by_reference.py\n",
    "# 引用传递\n",
    "\n",
    "def changeList(list):\n",
    "   list.append('多余的东西')\n",
    " \n",
    "list = [10,20,30]\n",
    "changeList(list)\n",
    "print (list)"
   ]
  },
  {
   "cell_type": "markdown",
   "metadata": {},
   "source": [
    "## 2.2 关键字参数\n",
    "\n",
    "关键字参数是指，在调用函数时，显式地表明参数的名称。"
   ]
  },
  {
   "cell_type": "code",
   "execution_count": 3,
   "metadata": {},
   "outputs": [
    {
     "name": "stdout",
     "output_type": "stream",
     "text": [
      "1\n",
      "-1\n"
     ]
    }
   ],
   "source": [
    "# key_parameter.py\n",
    "# 关键字参数\n",
    "\n",
    "def sub(a, b):\n",
    "    return a - b\n",
    "\n",
    "print(sub(2, 1))\n",
    "print(sub(b=2, a=1))"
   ]
  },
  {
   "cell_type": "markdown",
   "metadata": {},
   "source": [
    "## 2.3 默认参数\n",
    "\n",
    "默认参数是指在定义函数时，为某一个参数设定默认值。如果该函数被调用但是没有提供该参数，则默认该参数为前面设定的默认值。"
   ]
  },
  {
   "cell_type": "code",
   "execution_count": 4,
   "metadata": {},
   "outputs": [
    {
     "name": "stdout",
     "output_type": "stream",
     "text": [
      "20\n",
      "11\n"
     ]
    }
   ],
   "source": [
    "# default_parameter.py\n",
    "# 默认参数\n",
    "\n",
    "def increase(a, by=1):\n",
    "    return a + by\n",
    "\n",
    "print(increase(10, 10))\n",
    "print(increase(10))"
   ]
  },
  {
   "cell_type": "markdown",
   "metadata": {},
   "source": [
    "## 2.4 不定长参数\n",
    "\n",
    "很多情况下，某一个功能函数的参数数目是不一定要固定的。假如现在有一个求和函数 sum，我们希望不 care 传给 sum 的参数有多少个，反正我们都是将它们全部加起来。参数前面加 `*` 表示其不定长。"
   ]
  },
  {
   "cell_type": "code",
   "execution_count": 6,
   "metadata": {},
   "outputs": [
    {
     "name": "stdout",
     "output_type": "stream",
     "text": [
      "1\n",
      "3\n",
      "6\n"
     ]
    }
   ],
   "source": [
    "# variable_length_parameter.py\n",
    "# 不定长参数\n",
    "\n",
    "def sum(*numbers):\n",
    "    result = 0\n",
    "    for number in numbers:\n",
    "        result = result + number\n",
    "    return result\n",
    "\n",
    "print(sum(1))\n",
    "print(sum(1, 2))\n",
    "print(sum(1, 2, 3))"
   ]
  },
  {
   "cell_type": "markdown",
   "metadata": {},
   "source": [
    "## 3. 鬼斧神工：递归\n",
    "\n",
    "在函数里面调用自己的过程，叫做递归。递归函数在实现上不太好理解，但是效果灰常神奇！"
   ]
  },
  {
   "cell_type": "code",
   "execution_count": 7,
   "metadata": {},
   "outputs": [
    {
     "name": "stdout",
     "output_type": "stream",
     "text": [
      "1\n",
      "120\n",
      "3628800\n"
     ]
    }
   ],
   "source": [
    "# factorial.py\n",
    "# 通过递归实现阶乘\n",
    "\n",
    "def factorial(n):\n",
    "    if (n == 1):\n",
    "        return 1\n",
    "    return n * factorial(n-1)\n",
    "\n",
    "print(factorial(1))\n",
    "print(factorial(5))\n",
    "print(factorial(10))"
   ]
  },
  {
   "cell_type": "code",
   "execution_count": 9,
   "metadata": {},
   "outputs": [
    {
     "name": "stdout",
     "output_type": "stream",
     "text": [
      "1\n",
      "8\n",
      "89\n"
     ]
    }
   ],
   "source": [
    "# Fibonacci.py\n",
    "# Fibonacci 数列\n",
    "\n",
    "def Fibonacci(n):\n",
    "    if (n == 0 or n == 1):\n",
    "        return 1\n",
    "    return Fibonacci(n-1) + Fibonacci(n-2)\n",
    "\n",
    "print(Fibonacci(1))\n",
    "print(Fibonacci(5))\n",
    "print(Fibonacci(10))"
   ]
  }
 ],
 "metadata": {
  "kernelspec": {
   "display_name": "Python 3",
   "language": "python",
   "name": "python3"
  },
  "language_info": {
   "codemirror_mode": {
    "name": "ipython",
    "version": 2
   },
   "file_extension": ".py",
   "mimetype": "text/x-python",
   "name": "python",
   "nbconvert_exporter": "python",
   "pygments_lexer": "ipython2",
   "version": "2.7.14"
  }
 },
 "nbformat": 4,
 "nbformat_minor": 2
}
